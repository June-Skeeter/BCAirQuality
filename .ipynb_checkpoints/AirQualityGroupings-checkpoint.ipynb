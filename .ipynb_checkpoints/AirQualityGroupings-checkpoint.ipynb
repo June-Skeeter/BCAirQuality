{
 "cells": [
  {
   "cell_type": "code",
   "execution_count": 6,
   "metadata": {},
   "outputs": [
    {
     "name": "stdout",
     "output_type": "stream",
     "text": [
      "wget --user=\"anonymous\" --password=\"thruhikerflash@gmail.com\" ftp://ftp.env.gov.bc.ca/pub/outgoing/AIR/AnnualSummary/2017/PM25.csv\n"
     ]
    },
    {
     "data": {
      "text/plain": [
       "('Data.csv', <email.message.Message at 0x1b74cf62860>)"
      ]
     },
     "execution_count": 6,
     "metadata": {},
     "output_type": "execute_result"
    }
   ],
   "source": [
    "import pandas as pd\n",
    "import numpy as np\n",
    "import urllib.request \n",
    "\n",
    "Data_Path = \"ftp://ftp.env.gov.bc.ca/pub/outgoing/AIR/AnnualSummary/\"\n",
    "\n",
    "Years\n",
    "2017/\"+\"PM25.csv\"\n",
    "\n",
    "\n",
    "\n",
    "urllib.request.urlretrieve(root, 'Temp.csv')"
   ]
  },
  {
   "cell_type": "code",
   "execution_count": 65,
   "metadata": {},
   "outputs": [
    {
     "name": "stdout",
     "output_type": "stream",
     "text": [
      "(118, 18)\n"
     ]
    }
   ],
   "source": [
    "import pandas as pd\n",
    "\n",
    "for DataSet in ['PM25','NOx']:\n",
    "# Data = pd.read_csv('PM25.csv',parse_dates={'datetime':[0]},index_col=['datetime'])\n",
    "\n",
    "Data['Month']=Data.index.month\n",
    "Data['Year']=Data.index.year\n",
    "Monthly = Data.groupby(['STATION_NAME','Month']).agg({'RAW_VALUE':'mean'})\n",
    "Yearly = Data.groupby(['STATION_NAME','Year']).agg({'RAW_VALUE':'mean'})\n",
    "print(Yearly.unstack().shape)\n"
   ]
  },
  {
   "cell_type": "code",
   "execution_count": 36,
   "metadata": {},
   "outputs": [
    {
     "name": "stdout",
     "output_type": "stream",
     "text": [
      "(9251, 2)\n"
     ]
    }
   ],
   "source": [
    "# level_values = Data.index.get_level_values\n",
    "# print(level_values)\n",
    "# Monthly = Data.groupby(['STATION_NAME']+[pd.Grouper(freq='M', level=0)]).mean()\n",
    "# Station = Data.groupby('STATION_NAME').first()\n",
    "# print(Monthly.shape)#=Monthly.index.levels[1].month.values\n",
    "# for mo in range(1,12):\n",
    "#     print(Monthly.unstack()['datetime'].month)\n",
    "# Monthly['RAW_VALUE'].unstack().plot()\n",
    "# Monthly.reset_index()\n",
    "# Data.to_csv('PM2_5.csv')\n"
   ]
  },
  {
   "cell_type": "code",
   "execution_count": null,
   "metadata": {
    "collapsed": true
   },
   "outputs": [],
   "source": []
  }
 ],
 "metadata": {
  "kernelspec": {
   "display_name": "Python 3",
   "language": "python",
   "name": "python3"
  },
  "language_info": {
   "codemirror_mode": {
    "name": "ipython",
    "version": 3
   },
   "file_extension": ".py",
   "mimetype": "text/x-python",
   "name": "python",
   "nbconvert_exporter": "python",
   "pygments_lexer": "ipython3",
   "version": "3.6.2"
  }
 },
 "nbformat": 4,
 "nbformat_minor": 2
}
