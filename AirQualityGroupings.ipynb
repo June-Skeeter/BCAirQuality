{
 "cells": [
  {
   "cell_type": "markdown",
   "metadata": {},
   "source": [
    "## This script downloads hourly airquality data from DATABC's ftp server and agregates it by month and year"
   ]
  },
  {
   "cell_type": "code",
   "execution_count": 32,
   "metadata": {
    "scrolled": false
   },
   "outputs": [
    {
     "name": "stdout",
     "output_type": "stream",
     "text": [
      "Downloading CO\n",
      "Completed CO : there are  4  stations available to analyze.\n",
      "\n",
      "Downloading H2S\n",
      "Completed H2S : there are  3  stations available to analyze.\n",
      "\n",
      "Downloading NO\n",
      "Completed NO : there are  53  stations available to analyze.\n",
      "\n",
      "Downloading NO2\n",
      "Completed NO2 : there are  53  stations available to analyze.\n",
      "\n",
      "Downloading O3\n",
      "Completed O3 : there are  46  stations available to analyze.\n",
      "\n",
      "Downloading PM10\n",
      "Completed PM10 : there are  21  stations available to analyze.\n",
      "\n",
      "Downloading PM25\n",
      "Completed PM25 : there are  66  stations available to analyze.\n",
      "\n",
      "Downloading SO2\n",
      "Completed SO2 : there are  56  stations available to analyze.\n",
      "\n",
      "Downloading TRS\n",
      "Completed TRS : there are  25  stations available to analyze.\n",
      "\n"
     ]
    }
   ],
   "source": [
    "import pandas as pd\n",
    "import numpy as np\n",
    "import urllib.request \n",
    "import os\n",
    "\n",
    "Data_Path = \"ftp://ftp.env.gov.bc.ca/pub/outgoing/AIR/AnnualSummary/\"\n",
    "\n",
    "## 2009 is the first year the data is aggregated yearly\n",
    "Years = [str(x) for x in range(2009,2018)]\n",
    "## The gas/particulate data available \n",
    "Species = [\"CO\",\"H2S\",\"NO\",\"NO2\",\"O3\",\"PM10\",\"PM25\",\"SO2\",\"TRS\"]\n",
    "\n",
    "def ReadFile(Data = None):\n",
    "    if Data is None:\n",
    "        Data = pd.read_csv('Temp.csv',parse_dates={'datetime':[0]},index_col=['datetime'],\n",
    "                              dtype={\"DATE_PST\":str,\"STATION_NAME\":str,\"EMS_ID\":str,\"PARAMETER\":str,\n",
    "                                     \"INSTRUMENT\":str,\"RAW_VALUE\":float,\"UNIT\":str,\"ROUNDED_VALUE\":float})\n",
    "        Data['Month']=Data.index.month\n",
    "        Data['Year']=Data.index.year\n",
    "    else:\n",
    "        NewData = pd.read_csv('Temp.csv',parse_dates={'datetime':[0]},index_col=['datetime'],\n",
    "                              dtype={\"DATE_PST\":str,\"STATION_NAME\":str,\"EMS_ID\":str,\"PARAMETER\":str,\n",
    "                                     \"INSTRUMENT\":str,\"RAW_VALUE\":float,\"UNIT\":str,\"ROUNDED_VALUE\":float})\n",
    "        NewData['Month']=NewData.index.month\n",
    "        NewData['Year']=NewData.index.year\n",
    "        Data = Data.append(NewData)\n",
    "    return(Data)\n",
    "\n",
    "for species in Species:\n",
    "    print('Downloading '+species)\n",
    "    Data = None    \n",
    "    for year in Years:\n",
    "        path = Data_Path+year+'/'+species+'.csv'\n",
    "        urllib.request.urlretrieve(path, 'Temp.csv')\n",
    "        Data = ReadFile(Data)\n",
    "    Data = Data.loc['Year']\n",
    "    # Agregate data by month and write to a file\n",
    "    AggData = Data.groupby(['STATION_NAME','Month']).agg({'RAW_VALUE':'mean'})\n",
    "    AggData.unstack()['RAW_VALUE'].to_csv(species+'_Monthly_Averages.csv')\n",
    "    # Agregate data by year and write to a file\n",
    "    AggData = Data.groupby(['STATION_NAME','Year']).agg({'RAW_VALUE':'mean'})\n",
    "    AggData.unstack()['RAW_VALUE'].to_csv(species+'_Yearly_Averages.csv')\n",
    "    print('Completed '+species,': there are ',AggData.unstack().shape[0],' stations available to analyze.')\n",
    "    print()\n",
    "os.remove('Temp.csv')"
   ]
  },
  {
   "cell_type": "code",
   "execution_count": null,
   "metadata": {
    "collapsed": true
   },
   "outputs": [],
   "source": []
  }
 ],
 "metadata": {
  "kernelspec": {
   "display_name": "Python 3",
   "language": "python",
   "name": "python3"
  },
  "language_info": {
   "codemirror_mode": {
    "name": "ipython",
    "version": 3
   },
   "file_extension": ".py",
   "mimetype": "text/x-python",
   "name": "python",
   "nbconvert_exporter": "python",
   "pygments_lexer": "ipython3",
   "version": "3.6.2"
  }
 },
 "nbformat": 4,
 "nbformat_minor": 2
}
