{
 "cells": [
  {
   "cell_type": "code",
   "execution_count": 5,
   "id": "fe882df8",
   "metadata": {},
   "outputs": [
    {
     "name": "stdout",
     "output_type": "stream",
     "text": [
      "01-20-23  12:44AM               118516 bc_air_monitoring_stations.csv\n",
      "01-19-23  11:55PM             22453433 CO.csv\n",
      "01-20-23  12:41AM              4562531 H2S.csv\n",
      "01-20-23  12:02AM             75482715 NO.csv\n",
      "01-20-23  12:09AM             75884489 NO2.csv\n",
      "01-20-23  12:16AM             75923605 NOx.csv\n",
      "01-20-23  12:22AM             68976516 O3.csv\n",
      "01-20-23  12:25AM             35156580 PM10.csv\n",
      "01-20-23  12:34AM             98752070 PM25.csv\n",
      "01-20-23  12:41AM             73155455 SO2.csv\n",
      "01-20-23  09:51AM       <DIR>          STATION_DATA\n",
      "01-20-23  12:44AM             30651341 TRS.csv\n"
     ]
    }
   ],
   "source": [
    "files = []\n",
    "\n",
    "import ftplib\n",
    "\n",
    "# ftp = ftplib.FTP()\n",
    "# ftp.login(\"anonymous\", \"ftplib-example-1\")\n",
    "\n",
    "FTP_HOST = \"ftp.env.gov.bc.ca\"\n",
    "FTP_USER = \"anonymous\"\n",
    "FTP_PASS = \"\"\n",
    "# some utility functions that we gonna need\n",
    "def get_size_format(n, suffix=\"B\"):\n",
    "    # converts bytes to scaled format (e.g KB, MB, etc.)\n",
    "    for unit in [\"\", \"K\", \"M\", \"G\", \"T\", \"P\"]:\n",
    "        if n < 1024:\n",
    "            return f\"{n:.2f}{unit}{suffix}\"\n",
    "        n /= 1024\n",
    "\n",
    "def get_datetime_format(date_time):\n",
    "    # convert to datetime object\n",
    "    date_time = datetime.strptime(date_time, \"%Y%m%d%H%M%S\")\n",
    "    # convert to human readable date time string\n",
    "    return date_time.strftime(\"%Y/%m/%d %H:%M:%S\")\n",
    "ftp = ftplib.FTP(FTP_HOST, FTP_USER, FTP_PASS)\n",
    "ftp.login()\n",
    "ftp.cwd('pub/outgoing/AIR/AnnualSummary/2021/')\n",
    "ftp.dir()\n",
    "# ftp://ftp.env.gov.bc.ca/pub/outgoing/AIR/Hourly_Raw_Air_Data/Year_to_Date/"
   ]
  },
  {
   "cell_type": "code",
   "execution_count": 7,
   "id": "59d746e4",
   "metadata": {},
   "outputs": [],
   "source": [
    "filename = 'PM25.csv'\n",
    "with open( filename, 'wb' ) as file :\n",
    "        ftp.retrbinary('RETR %s' % filename, file.write)"
   ]
  }
 ],
 "metadata": {
  "kernelspec": {
   "display_name": "Python 3 (ipykernel)",
   "language": "python",
   "name": "python3"
  },
  "language_info": {
   "codemirror_mode": {
    "name": "ipython",
    "version": 3
   },
   "file_extension": ".py",
   "mimetype": "text/x-python",
   "name": "python",
   "nbconvert_exporter": "python",
   "pygments_lexer": "ipython3",
   "version": "3.8.10"
  }
 },
 "nbformat": 4,
 "nbformat_minor": 5
}
