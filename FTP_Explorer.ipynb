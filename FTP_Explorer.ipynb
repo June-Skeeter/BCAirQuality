{
 "cells": [
  {
   "cell_type": "code",
   "execution_count": 30,
   "id": "fe882df8",
   "metadata": {},
   "outputs": [
    {
     "name": "stdout",
     "output_type": "stream",
     "text": [
      "06-14-22  02:46PM             81808099 aqhi.csv\n",
      "06-14-22  02:38PM                72240 bc_air_monitoring_stations.csv\n",
      "06-14-22  02:37PM             25710991 CO.csv\n",
      "06-14-22  02:38PM              4067953 H2S.csv\n",
      "06-14-22  02:38PM              2746108 HF.csv\n",
      "06-14-22  02:37PM             94488783 HUMIDITY.csv\n",
      "06-14-22  02:37PM             67143853 NO.csv\n",
      "06-14-22  02:37PM             67722759 NO2.csv\n",
      "06-14-22  02:37PM             66323425 NOx.csv\n",
      "06-14-22  02:38PM             62185863 O3.csv\n",
      "06-14-22  02:38PM             42122210 PM10.csv\n",
      "06-14-22  02:38PM             90791395 PM25.csv\n",
      "06-14-22  02:38PM              7544451 PRECIP.csv\n",
      "06-14-22  02:38PM             18047411 PRESSURE.csv\n",
      "06-14-22  02:38PM              2689862 SNOW.csv\n",
      "06-14-22  02:38PM             64570636 SO2.csv\n",
      "03-18-22  02:29PM       <DIR>          STATION_DATA\n",
      "06-14-22  02:38PM            118041980 TEMP_MEAN.csv\n",
      "06-14-22  02:38PM             34105952 TRS.csv\n",
      "06-14-22  02:38PM              5988011 VAPOUR_PRESSURE.csv\n",
      "06-14-22  02:38PM             73318644 WDIR_UVEC.csv\n",
      "06-14-22  02:38PM            120723123 WDIR_VECT.csv\n",
      "06-14-22  01:38PM            122955338 WSPD_SCLR.csv\n",
      "06-14-22  02:38PM            103732470 WSPD_VECT.csv\n"
     ]
    }
   ],
   "source": [
    "files = []\n",
    "\n",
    "import ftplib\n",
    "\n",
    "# ftp = ftplib.FTP()\n",
    "# ftp.login(\"anonymous\", \"ftplib-example-1\")\n",
    "\n",
    "FTP_HOST = \"ftp.env.gov.bc.ca\"\n",
    "FTP_USER = \"anonymous\"\n",
    "FTP_PASS = \"\"\n",
    "# some utility functions that we gonna need\n",
    "def get_size_format(n, suffix=\"B\"):\n",
    "    # converts bytes to scaled format (e.g KB, MB, etc.)\n",
    "    for unit in [\"\", \"K\", \"M\", \"G\", \"T\", \"P\"]:\n",
    "        if n < 1024:\n",
    "            return f\"{n:.2f}{unit}{suffix}\"\n",
    "        n /= 1024\n",
    "\n",
    "def get_datetime_format(date_time):\n",
    "    # convert to datetime object\n",
    "    date_time = datetime.strptime(date_time, \"%Y%m%d%H%M%S\")\n",
    "    # convert to human readable date time string\n",
    "    return date_time.strftime(\"%Y/%m/%d %H:%M:%S\")\n",
    "ftp = ftplib.FTP(FTP_HOST, FTP_USER, FTP_PASS)\n",
    "ftp.login()\n",
    "ftp.cwd('pub/outgoing/AIR/Hourly_Raw_Air_Data/Year_to_Date/')\n",
    "ftp.dir()\n",
    "# ftp://ftp.env.gov.bc.ca/pub/outgoing/AIR/Hourly_Raw_Air_Data/Year_to_Date/"
   ]
  },
  {
   "cell_type": "code",
   "execution_count": null,
   "id": "59d746e4",
   "metadata": {},
   "outputs": [],
   "source": []
  }
 ],
 "metadata": {
  "kernelspec": {
   "display_name": "Python 3",
   "language": "python",
   "name": "python3"
  },
  "language_info": {
   "codemirror_mode": {
    "name": "ipython",
    "version": 3
   },
   "file_extension": ".py",
   "mimetype": "text/x-python",
   "name": "python",
   "nbconvert_exporter": "python",
   "pygments_lexer": "ipython3",
   "version": "3.8.8"
  }
 },
 "nbformat": 4,
 "nbformat_minor": 5
}
