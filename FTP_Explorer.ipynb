{
 "cells": [
  {
   "cell_type": "code",
   "execution_count": 4,
   "id": "fe882df8",
   "metadata": {},
   "outputs": [
    {
     "name": "stdout",
     "output_type": "stream",
     "text": [
      "07-21-21  12:01PM             45738069 AQHI.csv\n",
      "06-19-20  10:26PM                67250 bc_air_monitoring_stations.csv\n",
      "03-04-22  07:53PM             33037116 CO.csv\n",
      "03-04-22  07:54PM              4684483 H2S.csv\n",
      "03-04-22  08:13PM             75990962 HUMIDITY.csv\n",
      "03-04-22  08:21PM             74478700 NO.csv\n",
      "03-04-22  08:21PM             74887821 NO2.csv\n",
      "03-04-22  08:21PM             70556242 NOx.csv\n",
      "03-04-22  08:21PM             69999063 O3.csv\n",
      "03-04-22  08:22PM             32400781 PM10.csv\n",
      "03-04-22  08:24PM            100752242 PM25.csv\n",
      "03-04-22  08:11PM              8312917 PRECIP.csv\n",
      "03-04-22  08:10PM              6752319 PRESSURE.csv\n",
      "03-04-22  08:11PM              4199512 SNOW.csv\n",
      "03-04-22  08:25PM             76859336 SO2.csv\n",
      "05-23-20  11:32AM       <DIR>          STATION_DATA\n",
      "03-04-22  08:27PM             90522013 TEMP_MEAN.csv\n",
      "03-04-22  08:27PM             30464514 TRS.csv\n",
      "03-04-22  08:27PM             74160068 WDIR_UVEC.csv\n",
      "03-04-22  08:27PM             85094888 WDIR_VECT.csv\n",
      "06-30-21  01:46PM                  692 WIND_READ_ME.txt\n",
      "03-04-22  08:27PM             90292780 WSPD_SCLR.csv\n",
      "03-04-22  08:27PM             72339249 WSPD_VECT.csv\n"
     ]
    }
   ],
   "source": [
    "files = []\n",
    "\n",
    "import ftplib\n",
    "\n",
    "# ftp = ftplib.FTP()\n",
    "# ftp.login(\"anonymous\", \"ftplib-example-1\")\n",
    "\n",
    "FTP_HOST = \"ftp.env.gov.bc.ca\"\n",
    "FTP_USER = \"anonymous\"\n",
    "FTP_PASS = \"\"\n",
    "# some utility functions that we gonna need\n",
    "def get_size_format(n, suffix=\"B\"):\n",
    "    # converts bytes to scaled format (e.g KB, MB, etc.)\n",
    "    for unit in [\"\", \"K\", \"M\", \"G\", \"T\", \"P\"]:\n",
    "        if n < 1024:\n",
    "            return f\"{n:.2f}{unit}{suffix}\"\n",
    "        n /= 1024\n",
    "\n",
    "def get_datetime_format(date_time):\n",
    "    # convert to datetime object\n",
    "    date_time = datetime.strptime(date_time, \"%Y%m%d%H%M%S\")\n",
    "    # convert to human readable date time string\n",
    "    return date_time.strftime(\"%Y/%m/%d %H:%M:%S\")\n",
    "ftp = ftplib.FTP(FTP_HOST, FTP_USER, FTP_PASS)\n",
    "ftp.login()\n",
    "ftp.cwd('pub/outgoing/AIR/AnnualSummary/2019/')\n",
    "ftp.dir()\n",
    "# ftp://ftp.env.gov.bc.ca/pub/outgoing/AIR/Hourly_Raw_Air_Data/Year_to_Date/"
   ]
  },
  {
   "cell_type": "code",
   "execution_count": 7,
   "id": "59d746e4",
   "metadata": {},
   "outputs": [],
   "source": [
    "filename = 'PM25.csv'\n",
    "with open( filename, 'wb' ) as file :\n",
    "        ftp.retrbinary('RETR %s' % filename, file.write)"
   ]
  }
 ],
 "metadata": {
  "kernelspec": {
   "display_name": "Python 3 (ipykernel)",
   "language": "python",
   "name": "python3"
  },
  "language_info": {
   "codemirror_mode": {
    "name": "ipython",
    "version": 3
   },
   "file_extension": ".py",
   "mimetype": "text/x-python",
   "name": "python",
   "nbconvert_exporter": "python",
   "pygments_lexer": "ipython3",
   "version": "3.8.10"
  }
 },
 "nbformat": 4,
 "nbformat_minor": 5
}
